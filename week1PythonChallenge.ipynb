{
 "cells": [
  {
   "cell_type": "code",
   "execution_count": null,
   "id": "79889563",
   "metadata": {},
   "outputs": [],
   "source": [
    "# #Matt, a resident of New York City (NYC) is a bicycle enthusiast. He is planning a trip to France to witness the Tour De France, a famous bicycle racing event that attracts spectators from all over the world.\n",
    "\n",
    "# Help Matt perform the following tasks by writing Python programs using Jupyter Notebook."
   ]
  },
  {
   "cell_type": "code",
   "execution_count": 27,
   "id": "f02aa9d6",
   "metadata": {},
   "outputs": [
    {
     "name": "stdout",
     "output_type": "stream",
     "text": [
      "4\n"
     ]
    }
   ],
   "source": [
    "#task1 develop a Python program that shows the current time in France when he enters the local time in NYC as 22 hours.\n",
    "nyc = 22 \n",
    "france = (nyc + 6) - 24\n",
    "print(france)\n"
   ]
  },
  {
   "cell_type": "code",
   "execution_count": 2,
   "id": "f0bd2017",
   "metadata": {},
   "outputs": [
    {
     "name": "stdout",
     "output_type": "stream",
     "text": [
      "04:00:00\n"
     ]
    }
   ],
   "source": [
    "# second approach \n",
    "import datetime as dt\n",
    " \n",
    "nyc = dt.datetime.strptime('22:00', '%H:%M')\n",
    "t2 = dt.datetime.strptime('06:00', '%H:%M')\n",
    "time_zero = dt.datetime.strptime('00:00', '%H:%M')\n",
    "print((nyc - time_zero + t2).time())"
   ]
  },
  {
   "cell_type": "code",
   "execution_count": 29,
   "id": "3a185509",
   "metadata": {},
   "outputs": [
    {
     "name": "stdout",
     "output_type": "stream",
     "text": [
      "Matt needs 550.0175 USD dollars in order to get 500 Euros\n",
      "Matt needs 550.0175 USD dollars in order to get 500 Euros\n"
     ]
    }
   ],
   "source": [
    "#task2\n",
    "# Matt wants to carry 500 Euros, which he wants to get from the local currency exchange agents in NYC. There is a 1.75% service charge for the currency exchange.\n",
    "# How many dollars will Matt need to spend to get 500 Euros, including the 1.75% service charge?\n",
    "\n",
    "euro = 1.1 * 500\n",
    "serviceFee = 0.0175\n",
    "balance = euro + serviceFee\n",
    "\n",
    "print(f\"Matt needs {balance} USD dollars in order to get 500 Euros\")\n",
    "print(\"Matt needs\",  balance , \"USD dollars in order to get 500 Euros\")"
   ]
  },
  {
   "cell_type": "code",
   "execution_count": 5,
   "id": "e132aaf1",
   "metadata": {},
   "outputs": [
    {
     "name": "stdout",
     "output_type": "stream",
     "text": [
      "6000.0 is what he spends in 45 days in NYC\n",
      "7200.0 euros is how much he will be spending in 45 days\n"
     ]
    }
   ],
   "source": [
    "# #task3 Matt figures out that he will be spending approximately 20% more money in France in a month than what he spends \n",
    "# in NYC.If he spends $4,000 per month (30 days) in NYC, how many dollars will Matt need for his 45-day trip to France?\n",
    "\n",
    "#calculating how much usd is spent in 45 days\n",
    "nyc1 = 4000\n",
    "nyc2 = (nyc1 * 1.5)\n",
    "print(f\"{nyc2} is what he spends in 45 days in NYC\")\n",
    "\n",
    "#20 percent more than what he spends in 45 days\n",
    "euro1 = nyc2 * 1.2\n",
    "print(f\"{euro1} euros is how much he will be spending in 45 days\")"
   ]
  },
  {
   "cell_type": "code",
   "execution_count": 6,
   "id": "1a2eede7",
   "metadata": {},
   "outputs": [
    {
     "name": "stdout",
     "output_type": "stream",
     "text": [
      "1000.0\n"
     ]
    }
   ],
   "source": [
    "#task4\n",
    "# Matt wants to invest in stocks to help him earn some extra money for his trip to France. Matt invests in a certain stock \n",
    "# that will yield 5% interest over a one-month period, as mentioned by his investment agent. \n",
    "# If Matt invests $20,000, what profit will he earn after a month?\n",
    "\n",
    "initial_inv = 20000\n",
    "stock = 0.05\n",
    "print(initial_inv * stock)"
   ]
  },
  {
   "cell_type": "code",
   "execution_count": 7,
   "id": "bfccaf2f",
   "metadata": {},
   "outputs": [
    {
     "name": "stdout",
     "output_type": "stream",
     "text": [
      "Matt needs to walk 7.224 miles everyday\n"
     ]
    }
   ],
   "source": [
    "#task5\n",
    "# Matt wants to practice walking long distances to help him explore tourist places in France. He figures out that, \n",
    "# on average, an adventure-seeking tourist in France walks around 12 kilometer per day.\n",
    "# Calculate the number of miles that Matt should practice walking per day while he is in NYC.\n",
    "\n",
    "\n",
    "km = 12\n",
    "mile = km * .602\n",
    "print(f\"Matt needs to walk {mile} miles everyday\")"
   ]
  },
  {
   "cell_type": "code",
   "execution_count": 4,
   "id": "0d56d273",
   "metadata": {},
   "outputs": [
    {
     "name": "stdout",
     "output_type": "stream",
     "text": [
      " An athlete has to complete 1669.55 laps\n"
     ]
    }
   ],
   "source": [
    "#task6\n",
    "# The Tour de France bicycle race involves covering 3,328 kilometer approximately. Matt is curious to know how many \n",
    "# laps an athlete will have to complete in the bicycle training facility if one lap in the practice track is 1.2 miles long.\n",
    "\n",
    "kilometer = 3328\n",
    "miles = kilometer * .602\n",
    "laps = round(miles / 1.2, 2)\n",
    "print(f\" An athlete has to complete {laps} laps\")"
   ]
  },
  {
   "cell_type": "code",
   "execution_count": 8,
   "id": "ea91aa01",
   "metadata": {},
   "outputs": [
    {
     "name": "stdout",
     "output_type": "stream",
     "text": [
      " It takes 3339.1 minutes to complete 1669.5 laps\n",
      " It takes 55.65 hours to complete 1669.5 laps\n",
      "It takes 2.32 days to complete 1669.5 laps with no break\n",
      "The athlete takes 333.91 10 min breaks\n",
      "3339.1\n",
      "It would take 8.5 total days\n"
     ]
    }
   ],
   "source": [
    "#task7\n",
    "# Matt figures out that an athlete, on average, can complete one lap in the practice track in 2 minutes. If the athlete \n",
    "# wants to take a 10-minute break after every 5 laps, needs a 1-hour lunch break, and does not want to ride the bicycle \n",
    "# for more than 10 hours a day, how many days will the athlete need to cover the distance of 3,328 kilometers?\n",
    "\n",
    "\n",
    "minPerlaps = laps * 2\n",
    "print(f\" It takes {minPerlaps} minutes to complete 1669.5 laps\")\n",
    "\n",
    "hour = minPerlaps / 60\n",
    "print(f\" It takes {round(hour,2)} hours to complete 1669.5 laps\")\n",
    "\n",
    "days_nobreak = (minPerlaps / 60) / 24\n",
    "print(f\"It takes {round(days_nobreak,2)} days to complete 1669.5 laps with no break\")\n",
    "\n",
    "\n",
    "ten_minBreak = laps / 5\n",
    "print(f\"The athlete takes {round(ten_minBreak,2)} 10 min breaks\")\n",
    "\n",
    "total10min_break = ten_minBreak * 10\n",
    "print(round(total10min_break,2))\n",
    "\n",
    "Break = hour / 9\n",
    "print(\"It would take\", round(Break + days_nobreak, 2), \"total days\")\n"
   ]
  },
  {
   "cell_type": "code",
   "execution_count": 32,
   "id": "c28837cb",
   "metadata": {},
   "outputs": [
    {
     "name": "stdout",
     "output_type": "stream",
     "text": [
      "5.6 bottles are needed\n"
     ]
    }
   ],
   "source": [
    "#task8\n",
    "# Matt wants to pick up some fresh grape juice from the local stores in France. However, the bottle sizes are marked\n",
    "# in 750 ml (milliliters) as opposed to ounces (oz) in the US. Help Matt calculate the number of bottles of grape \n",
    "# juice he needs to buy for 2 weeks if he wants to drink 10 oz of juice every night.\n",
    "\n",
    "\n",
    "#how many ML are being drank per day\n",
    "mLperday = (30 * 10)\n",
    "#how many ML are being drank in two weeks\n",
    "mLper2weeks = mLperday * 14\n",
    "#Ml divided by bottle sizes\n",
    "print(mLper2weeks / 750, \"bottles are needed\")"
   ]
  },
  {
   "cell_type": "code",
   "execution_count": null,
   "id": "2d0294e9",
   "metadata": {},
   "outputs": [],
   "source": []
  }
 ],
 "metadata": {
  "kernelspec": {
   "display_name": "Python 3 (ipykernel)",
   "language": "python",
   "name": "python3"
  },
  "language_info": {
   "codemirror_mode": {
    "name": "ipython",
    "version": 3
   },
   "file_extension": ".py",
   "mimetype": "text/x-python",
   "name": "python",
   "nbconvert_exporter": "python",
   "pygments_lexer": "ipython3",
   "version": "3.10.9"
  }
 },
 "nbformat": 4,
 "nbformat_minor": 5
}
