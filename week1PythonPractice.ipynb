{
 "cells": [
  {
   "cell_type": "code",
   "execution_count": 10,
   "id": "e5df100f",
   "metadata": {},
   "outputs": [
    {
     "name": "stdout",
     "output_type": "stream",
     "text": [
      "140627522230608\n",
      "<class 'int'>\n",
      "2\n"
     ]
    }
   ],
   "source": [
    "#task 1 Create a variable rollno and assign an integer value to it. Print the value of rollno, the id, and the data type.\n",
    "rollno = 2\n",
    "print(id(rollno))\n",
    "print(type(rollno))\n",
    "print(rollno)"
   ]
  },
  {
   "cell_type": "code",
   "execution_count": 11,
   "id": "2cdeb3f1",
   "metadata": {},
   "outputs": [
    {
     "name": "stdout",
     "output_type": "stream",
     "text": [
      "140627592454512\n",
      "<class 'str'>\n",
      "Marcos\n"
     ]
    }
   ],
   "source": [
    "#Create a variable firstname and assign a string value to it. Print the value of firstname, the id, and the data type.\n",
    "firstName = 'Marcos'\n",
    "print(id(firstName))\n",
    "print(type(firstName))\n",
    "print(firstName)"
   ]
  },
  {
   "cell_type": "code",
   "execution_count": 13,
   "id": "5c21d8a9",
   "metadata": {},
   "outputs": [
    {
     "name": "stdout",
     "output_type": "stream",
     "text": [
      "140627522232144\n",
      "<class 'int'>\n",
      "50\n"
     ]
    }
   ],
   "source": [
    "#Create a variable maxmarks and assign the value 50 to it. Print the value of maxmarks, the id, and the data type.\n",
    "maxMarks = 50\n",
    "print(id(maxMarks))\n",
    "print(type(maxMarks))\n",
    "print(maxMarks)"
   ]
  },
  {
   "cell_type": "code",
   "execution_count": null,
   "id": "3e7e8a41",
   "metadata": {},
   "outputs": [],
   "source": [
    "#Create a variable lastname and assign a string value to it. Print the value of lastname, the id, and the data type.\n",
    "lastName = 'Garcia'\n",
    "print(id(lastName))\n",
    "print(type(lastName))\n",
    "print(lastName)"
   ]
  },
  {
   "cell_type": "code",
   "execution_count": 15,
   "id": "c956a6e6",
   "metadata": {},
   "outputs": [],
   "source": [
    "#task 2 Naming a Variable\n",
    "#Execute the following expressions individually and explain the observations (if any) for each of them:\n",
    "\n",
    "\n",
    "var1 = 2\n",
    "#no output - not printing anything"
   ]
  },
  {
   "cell_type": "code",
   "execution_count": 17,
   "id": "a6228d46",
   "metadata": {},
   "outputs": [
    {
     "ename": "SyntaxError",
     "evalue": "invalid syntax (1705884949.py, line 1)",
     "output_type": "error",
     "traceback": [
      "\u001b[0;36m  File \u001b[0;32m\"/var/folders/xc/z_4h39rs5xl00vgk34134btm0000gn/T/ipykernel_26487/1705884949.py\"\u001b[0;36m, line \u001b[0;32m1\u001b[0m\n\u001b[0;31m    2var = 2\u001b[0m\n\u001b[0m     ^\u001b[0m\n\u001b[0;31mSyntaxError\u001b[0m\u001b[0;31m:\u001b[0m invalid syntax\n"
     ]
    }
   ],
   "source": [
    "2var = 2\n",
    "#invalid syntax - cant lead with a number as variables"
   ]
  },
  {
   "cell_type": "code",
   "execution_count": 19,
   "id": "04a0e868",
   "metadata": {},
   "outputs": [
    {
     "ename": "SyntaxError",
     "evalue": "invalid syntax (1069141224.py, line 1)",
     "output_type": "error",
     "traceback": [
      "\u001b[0;36m  File \u001b[0;32m\"/var/folders/xc/z_4h39rs5xl00vgk34134btm0000gn/T/ipykernel_26487/1069141224.py\"\u001b[0;36m, line \u001b[0;32m1\u001b[0m\n\u001b[0;31m    var 1 = 2\u001b[0m\n\u001b[0m        ^\u001b[0m\n\u001b[0;31mSyntaxError\u001b[0m\u001b[0;31m:\u001b[0m invalid syntax\n"
     ]
    }
   ],
   "source": [
    "var 1 = 2\n",
    "#invalid syntax - cant have spaces "
   ]
  },
  {
   "cell_type": "code",
   "execution_count": 20,
   "id": "d2ec3e89",
   "metadata": {},
   "outputs": [
    {
     "ename": "SyntaxError",
     "evalue": "invalid syntax (2077339643.py, line 1)",
     "output_type": "error",
     "traceback": [
      "\u001b[0;36m  File \u001b[0;32m\"/var/folders/xc/z_4h39rs5xl00vgk34134btm0000gn/T/ipykernel_26487/2077339643.py\"\u001b[0;36m, line \u001b[0;32m1\u001b[0m\n\u001b[0;31m    var$2 = 2\u001b[0m\n\u001b[0m       ^\u001b[0m\n\u001b[0;31mSyntaxError\u001b[0m\u001b[0;31m:\u001b[0m invalid syntax\n"
     ]
    }
   ],
   "source": [
    "var$2 = 2\n",
    "#invalid syntax - no special characters in variable names"
   ]
  },
  {
   "cell_type": "code",
   "execution_count": 1,
   "id": "6345bd3c",
   "metadata": {},
   "outputs": [],
   "source": [
    "#task3 Assigning Values to a Variable\n",
    "\n",
    "Class = 15\n",
    "#no output - not printing it or calling it, and try not to start your variables with capitals"
   ]
  },
  {
   "cell_type": "code",
   "execution_count": 24,
   "id": "d5b744ae",
   "metadata": {},
   "outputs": [
    {
     "ename": "SyntaxError",
     "evalue": "invalid syntax (1242795455.py, line 1)",
     "output_type": "error",
     "traceback": [
      "\u001b[0;36m  File \u001b[0;32m\"/var/folders/xc/z_4h39rs5xl00vgk34134btm0000gn/T/ipykernel_26487/1242795455.py\"\u001b[0;36m, line \u001b[0;32m1\u001b[0m\n\u001b[0;31m    class = 14\u001b[0m\n\u001b[0m          ^\u001b[0m\n\u001b[0;31mSyntaxError\u001b[0m\u001b[0;31m:\u001b[0m invalid syntax\n"
     ]
    }
   ],
   "source": [
    "class = 14\n",
    "#invalid syntax - class is a function so you cant use that"
   ]
  },
  {
   "cell_type": "code",
   "execution_count": 25,
   "id": "25b4d852",
   "metadata": {},
   "outputs": [],
   "source": [
    "DEF = 13\n",
    "#no output- not printing it or calling it, and try not to start your variables with capitals"
   ]
  },
  {
   "cell_type": "code",
   "execution_count": 26,
   "id": "a923d0bc",
   "metadata": {},
   "outputs": [
    {
     "ename": "SyntaxError",
     "evalue": "invalid syntax (1759817278.py, line 1)",
     "output_type": "error",
     "traceback": [
      "\u001b[0;36m  File \u001b[0;32m\"/var/folders/xc/z_4h39rs5xl00vgk34134btm0000gn/T/ipykernel_26487/1759817278.py\"\u001b[0;36m, line \u001b[0;32m1\u001b[0m\n\u001b[0;31m    def = 12\u001b[0m\n\u001b[0m        ^\u001b[0m\n\u001b[0;31mSyntaxError\u001b[0m\u001b[0;31m:\u001b[0m invalid syntax\n"
     ]
    }
   ],
   "source": [
    "def = 12\n",
    "#invalid syntax- class is a function so you cant use that"
   ]
  },
  {
   "cell_type": "code",
   "execution_count": 27,
   "id": "535553c5",
   "metadata": {},
   "outputs": [
    {
     "ename": "NameError",
     "evalue": "name 'TRUE' is not defined",
     "output_type": "error",
     "traceback": [
      "\u001b[0;31m---------------------------------------------------------------------------\u001b[0m",
      "\u001b[0;31mNameError\u001b[0m                                 Traceback (most recent call last)",
      "\u001b[0;32m/var/folders/xc/z_4h39rs5xl00vgk34134btm0000gn/T/ipykernel_26487/4089990639.py\u001b[0m in \u001b[0;36m<module>\u001b[0;34m\u001b[0m\n\u001b[0;32m----> 1\u001b[0;31m \u001b[0ma\u001b[0m \u001b[0;34m=\u001b[0m \u001b[0mTRUE\u001b[0m\u001b[0;34m\u001b[0m\u001b[0;34m\u001b[0m\u001b[0m\n\u001b[0m",
      "\u001b[0;31mNameError\u001b[0m: name 'TRUE' is not defined"
     ]
    }
   ],
   "source": [
    "a = TRUE\n",
    "# name 'TRUE' is not defined - Must be 'True'"
   ]
  },
  {
   "cell_type": "code",
   "execution_count": 28,
   "id": "d5028a41",
   "metadata": {},
   "outputs": [
    {
     "ename": "NameError",
     "evalue": "name 'false' is not defined",
     "output_type": "error",
     "traceback": [
      "\u001b[0;31m---------------------------------------------------------------------------\u001b[0m",
      "\u001b[0;31mNameError\u001b[0m                                 Traceback (most recent call last)",
      "\u001b[0;32m/var/folders/xc/z_4h39rs5xl00vgk34134btm0000gn/T/ipykernel_26487/140309188.py\u001b[0m in \u001b[0;36m<module>\u001b[0;34m\u001b[0m\n\u001b[0;32m----> 1\u001b[0;31m \u001b[0mb\u001b[0m \u001b[0;34m=\u001b[0m \u001b[0mfalse\u001b[0m\u001b[0;34m\u001b[0m\u001b[0;34m\u001b[0m\u001b[0m\n\u001b[0m",
      "\u001b[0;31mNameError\u001b[0m: name 'false' is not defined"
     ]
    }
   ],
   "source": [
    "b = false\n",
    "# name 'false is not defined, must be 'False'"
   ]
  },
  {
   "cell_type": "code",
   "execution_count": 29,
   "id": "ad3a957c",
   "metadata": {},
   "outputs": [
    {
     "name": "stdout",
     "output_type": "stream",
     "text": [
      "140627592329136\n",
      "<class 'float'>\n",
      "5.5\n"
     ]
    }
   ],
   "source": [
    "#task4 Using id() \n",
    "#Create a variable named marks and assign it a float value between 0 and 100. Print the value, the id, and the data type.\n",
    "\n",
    "\n",
    "marks = 5.5\n",
    "print(id(marks))\n",
    "print(type(marks))\n",
    "print(marks)"
   ]
  },
  {
   "cell_type": "code",
   "execution_count": 30,
   "id": "f5c8e4d9",
   "metadata": {},
   "outputs": [
    {
     "name": "stdout",
     "output_type": "stream",
     "text": [
      "140627592328208\n",
      "<class 'float'>\n",
      "10.5\n"
     ]
    }
   ],
   "source": [
    "#Change the value of marks to any other float value between 0 and 100. Print the value of marks, the id, and the data type\n",
    "\n",
    "\n",
    "marks = 10.5\n",
    "print(id(marks))\n",
    "print(type(marks))\n",
    "print(marks)\n",
    "#the id is different , maybe because its a different value"
   ]
  },
  {
   "cell_type": "code",
   "execution_count": 46,
   "id": "635ea445",
   "metadata": {},
   "outputs": [
    {
     "name": "stdout",
     "output_type": "stream",
     "text": [
      "10.50%\n"
     ]
    }
   ],
   "source": [
    "#task5 Define a variable maxmarks and assign it the value 100. Divide marks by maxmarks. Print the output as a percentage.\n",
    "maxmarks = 100\n",
    "maxmarks = marks / maxmarks\n",
    "\n",
    "maxmarks = '{:.2%}'.format(maxmarks)\n",
    "print(maxmarks)\n"
   ]
  },
  {
   "cell_type": "code",
   "execution_count": 48,
   "id": "fe68919d",
   "metadata": {},
   "outputs": [
    {
     "name": "stdout",
     "output_type": "stream",
     "text": [
      "Marcos Garcia\n"
     ]
    }
   ],
   "source": [
    "#Print the value of the variable fullname by joining firstname and lastname.\n",
    "\n",
    "fullName = firstName + \" \" + lastName\n",
    "print(fullName)"
   ]
  },
  {
   "cell_type": "code",
   "execution_count": 53,
   "id": "669a4fa3",
   "metadata": {},
   "outputs": [
    {
     "name": "stdout",
     "output_type": "stream",
     "text": [
      "Marcos Garcia scored 10.50%\n"
     ]
    }
   ],
   "source": [
    "print (fullName + \" scored \" + maxmarks)"
   ]
  },
  {
   "cell_type": "code",
   "execution_count": 75,
   "id": "dfe173cf",
   "metadata": {},
   "outputs": [
    {
     "name": "stdout",
     "output_type": "stream",
     "text": [
      "{'rollno': 'marcos'}\n",
      "[2, 'Marcos Garcia']\n"
     ]
    }
   ],
   "source": [
    "#task6 Creating Data Structures\n",
    "#Use the variable rollno as a key and the variable fullname as a value to create a dictionary data structure.\n",
    "\n",
    "a_dict = {\"rollno\":\"marcos\"}\n",
    "\n",
    "b_dict = [rollno, fullName]\n",
    "\n",
    "print(a_dict)\n",
    "print(b_dict)"
   ]
  },
  {
   "cell_type": "code",
   "execution_count": 54,
   "id": "0a9e44fb",
   "metadata": {},
   "outputs": [
    {
     "ename": "TypeError",
     "evalue": "unsupported operand type(s) for +: 'int' and 'str'",
     "output_type": "error",
     "traceback": [
      "\u001b[0;31m---------------------------------------------------------------------------\u001b[0m",
      "\u001b[0;31mTypeError\u001b[0m                                 Traceback (most recent call last)",
      "\u001b[0;32m/var/folders/xc/z_4h39rs5xl00vgk34134btm0000gn/T/ipykernel_26487/536453370.py\u001b[0m in \u001b[0;36m<module>\u001b[0;34m\u001b[0m\n\u001b[1;32m      1\u001b[0m \u001b[0;31m#task7\u001b[0m\u001b[0;34m\u001b[0m\u001b[0;34m\u001b[0m\u001b[0m\n\u001b[0;32m----> 2\u001b[0;31m \u001b[0;36m1\u001b[0m \u001b[0;34m+\u001b[0m \u001b[0;34m\"2\"\u001b[0m\u001b[0;34m\u001b[0m\u001b[0;34m\u001b[0m\u001b[0m\n\u001b[0m",
      "\u001b[0;31mTypeError\u001b[0m: unsupported operand type(s) for +: 'int' and 'str'"
     ]
    }
   ],
   "source": [
    "#task7 Arithmetic Operations\n",
    "#Execute the following expressions and explain the observations of the output:\n",
    "\n",
    "\n",
    "1 + \"2\"\n",
    "# unsupported operand type(s) for +: 'int' and 'str'"
   ]
  },
  {
   "cell_type": "code",
   "execution_count": 55,
   "id": "a77b5537",
   "metadata": {},
   "outputs": [
    {
     "data": {
      "text/plain": [
       "'12'"
      ]
     },
     "execution_count": 55,
     "metadata": {},
     "output_type": "execute_result"
    }
   ],
   "source": [
    "\"1\" + \"2\"\n",
    "#combined the strings"
   ]
  },
  {
   "cell_type": "code",
   "execution_count": 56,
   "id": "3f7a9c72",
   "metadata": {},
   "outputs": [
    {
     "data": {
      "text/plain": [
       "0.5"
      ]
     },
     "execution_count": 56,
     "metadata": {},
     "output_type": "execute_result"
    }
   ],
   "source": [
    "1/2\n",
    "#Arithmetic -> division"
   ]
  },
  {
   "cell_type": "code",
   "execution_count": 57,
   "id": "abd6a0d9",
   "metadata": {},
   "outputs": [
    {
     "data": {
      "text/plain": [
       "0"
      ]
     },
     "execution_count": 57,
     "metadata": {},
     "output_type": "execute_result"
    }
   ],
   "source": [
    "1//2\n",
    "#divids and rounds to the smallest whole number"
   ]
  },
  {
   "cell_type": "code",
   "execution_count": 63,
   "id": "e97554a7",
   "metadata": {},
   "outputs": [
    {
     "data": {
      "text/plain": [
       "True"
      ]
     },
     "execution_count": 63,
     "metadata": {},
     "output_type": "execute_result"
    }
   ],
   "source": [
    "#task8 Logical Operations\n",
    "#Execute the following commands and explain the output for each:\n",
    "\n",
    "True and True #two trues is true"
   ]
  },
  {
   "cell_type": "code",
   "execution_count": 64,
   "id": "b658325d",
   "metadata": {},
   "outputs": [
    {
     "data": {
      "text/plain": [
       "False"
      ]
     },
     "execution_count": 64,
     "metadata": {},
     "output_type": "execute_result"
    }
   ],
   "source": [
    "True and False\n",
    "#both conditions need to be true"
   ]
  },
  {
   "cell_type": "code",
   "execution_count": 65,
   "id": "74d70bb6",
   "metadata": {},
   "outputs": [
    {
     "data": {
      "text/plain": [
       "True"
      ]
     },
     "execution_count": 65,
     "metadata": {},
     "output_type": "execute_result"
    }
   ],
   "source": [
    "False or True\n",
    "#only one condition has to be true"
   ]
  },
  {
   "cell_type": "code",
   "execution_count": 66,
   "id": "6db83b1c",
   "metadata": {},
   "outputs": [
    {
     "data": {
      "text/plain": [
       "False"
      ]
     },
     "execution_count": 66,
     "metadata": {},
     "output_type": "execute_result"
    }
   ],
   "source": [
    "False or False"
   ]
  },
  {
   "cell_type": "code",
   "execution_count": 67,
   "id": "6fa3e704",
   "metadata": {},
   "outputs": [
    {
     "data": {
      "text/plain": [
       "True"
      ]
     },
     "execution_count": 67,
     "metadata": {},
     "output_type": "execute_result"
    }
   ],
   "source": [
    "#task9  Identity and Membership Operations\n",
    "# Compare firstname and fullname using the in operator. Print and explain the output.\n",
    "\n",
    "\n",
    "firstName in fullName\n",
    "#true because \"Marcos\" was found in the string fullName \"Marcos Garcia\""
   ]
  },
  {
   "cell_type": "code",
   "execution_count": 68,
   "id": "4bb116ce",
   "metadata": {},
   "outputs": [
    {
     "data": {
      "text/plain": [
       "False"
      ]
     },
     "execution_count": 68,
     "metadata": {},
     "output_type": "execute_result"
    }
   ],
   "source": [
    "firstName is fullName\n",
    "\n",
    "#they refer to different objects but are still not equal\n",
    "# '==' is used to test if theyre equal\n"
   ]
  },
  {
   "cell_type": "code",
   "execution_count": 73,
   "id": "27fcccfb",
   "metadata": {},
   "outputs": [
    {
     "name": "stdout",
     "output_type": "stream",
     "text": [
      "66\n",
      "1024\n"
     ]
    }
   ],
   "source": [
    "#task10\n",
    "a = 4\n",
    "b = 3\n",
    "c = 2\n",
    "d = a ** b + c\n",
    "e = a ** (b + c)\n",
    "print (d)\n",
    "# d first executes 4 to the 3rd power then adds it to 2\n",
    "print (e)\n",
    "# e first does (3+2) and then 4 gets raised to the 5th power\n"
   ]
  },
  {
   "cell_type": "code",
   "execution_count": null,
   "id": "edcc30cd",
   "metadata": {},
   "outputs": [],
   "source": []
  }
 ],
 "metadata": {
  "kernelspec": {
   "display_name": "Python 3 (ipykernel)",
   "language": "python",
   "name": "python3"
  },
  "language_info": {
   "codemirror_mode": {
    "name": "ipython",
    "version": 3
   },
   "file_extension": ".py",
   "mimetype": "text/x-python",
   "name": "python",
   "nbconvert_exporter": "python",
   "pygments_lexer": "ipython3",
   "version": "3.10.9"
  }
 },
 "nbformat": 4,
 "nbformat_minor": 5
}
